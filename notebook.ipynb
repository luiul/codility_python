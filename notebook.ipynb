{
 "cells": [
  {
   "cell_type": "markdown",
   "id": "8bc7e201-ff91-4961-ba31-3e2324e67375",
   "metadata": {},
   "source": [
    "# 1. Iterations"
   ]
  },
  {
   "cell_type": "code",
   "execution_count": 59,
   "id": "ee92a088-361c-471f-88dc-b1d82eaaf978",
   "metadata": {},
   "outputs": [],
   "source": [
    "l = [1,2,3]"
   ]
  },
  {
   "cell_type": "code",
   "execution_count": 61,
   "id": "09d239a2-6284-49a4-8424-9396a192035c",
   "metadata": {},
   "outputs": [
    {
     "data": {
      "text/plain": [
       "1"
      ]
     },
     "execution_count": 61,
     "metadata": {},
     "output_type": "execute_result"
    }
   ],
   "source": [
    "l[0]"
   ]
  },
  {
   "cell_type": "code",
   "execution_count": 66,
   "id": "993224ad-3ed9-4e30-a488-e9061de23aa3",
   "metadata": {},
   "outputs": [
    {
     "name": "stdout",
     "output_type": "stream",
     "text": [
      "1\n",
      "2\n",
      "3\n"
     ]
    }
   ],
   "source": [
    "for i in l: \n",
    "    print(i)"
   ]
  },
  {
   "cell_type": "markdown",
   "id": "c19cec7c-1437-4a06-83ba-053a8144b532",
   "metadata": {},
   "source": [
    "# 2. Arrays"
   ]
  },
  {
   "cell_type": "code",
   "execution_count": 63,
   "id": "11298fab-694f-4ab0-ab9a-6001e227a58d",
   "metadata": {},
   "outputs": [],
   "source": [
    "l.append(4)"
   ]
  },
  {
   "cell_type": "code",
   "execution_count": 65,
   "id": "813d4bcb-d91f-4e27-aa4e-85bb2f48a8ef",
   "metadata": {},
   "outputs": [
    {
     "data": {
      "text/plain": [
       "4"
      ]
     },
     "execution_count": 65,
     "metadata": {},
     "output_type": "execute_result"
    }
   ],
   "source": [
    "l.pop()"
   ]
  },
  {
   "cell_type": "code",
   "execution_count": 67,
   "id": "ca3b2d0f-f807-461c-8c04-505943cf89a8",
   "metadata": {},
   "outputs": [
    {
     "data": {
      "text/plain": [
       "3"
      ]
     },
     "execution_count": 67,
     "metadata": {},
     "output_type": "execute_result"
    }
   ],
   "source": [
    "len(l)"
   ]
  },
  {
   "cell_type": "code",
   "execution_count": 73,
   "id": "8ac4616a-aa52-4017-a040-d2447f8ebdc6",
   "metadata": {},
   "outputs": [],
   "source": [
    "l = ['a','b','c']"
   ]
  },
  {
   "cell_type": "code",
   "execution_count": 69,
   "id": "c42dfa74-318f-4b6f-bc29-c5f9d76769dc",
   "metadata": {},
   "outputs": [
    {
     "name": "stdout",
     "output_type": "stream",
     "text": [
      "a\n",
      "b\n",
      "c\n"
     ]
    }
   ],
   "source": [
    "for i in l: \n",
    "    print(i)"
   ]
  },
  {
   "cell_type": "code",
   "execution_count": 70,
   "id": "591705e8-673b-405b-81eb-d9b7b5046ba8",
   "metadata": {},
   "outputs": [
    {
     "data": {
      "text/plain": [
       "range(0, 3)"
      ]
     },
     "execution_count": 70,
     "metadata": {},
     "output_type": "execute_result"
    }
   ],
   "source": [
    "range(len(l))"
   ]
  },
  {
   "cell_type": "code",
   "execution_count": 71,
   "id": "b3c3dbc6-2c87-4e32-883a-1be8e9815684",
   "metadata": {},
   "outputs": [
    {
     "data": {
      "text/plain": [
       "[0, 1, 2]"
      ]
     },
     "execution_count": 71,
     "metadata": {},
     "output_type": "execute_result"
    }
   ],
   "source": [
    "list(range(len(l)))"
   ]
  },
  {
   "cell_type": "code",
   "execution_count": 76,
   "id": "1d1a6d6d-b8a4-4fbf-9fea-1b8d4ab8990f",
   "metadata": {},
   "outputs": [
    {
     "data": {
      "text/plain": [
       "[(0, 'a'), (1, 'b'), (2, 'c')]"
      ]
     },
     "execution_count": 76,
     "metadata": {},
     "output_type": "execute_result"
    }
   ],
   "source": [
    "list(enumerate(l))"
   ]
  },
  {
   "cell_type": "code",
   "execution_count": 77,
   "id": "3d59fa1c-9bbb-4f1b-ac7a-7b7c35b705db",
   "metadata": {},
   "outputs": [
    {
     "name": "stdout",
     "output_type": "stream",
     "text": [
      "0 a\n",
      "1 b\n",
      "2 c\n"
     ]
    }
   ],
   "source": [
    "# tuple unpacking\n",
    "for i, val in enumerate(l): \n",
    "    print(i, val)"
   ]
  },
  {
   "cell_type": "code",
   "execution_count": 79,
   "id": "995f30ec-b543-4c7d-9c40-52431316d379",
   "metadata": {},
   "outputs": [],
   "source": [
    "emails = {'Bob': 'bob@example.com','Alice': 'alice@example.com'}"
   ]
  },
  {
   "cell_type": "code",
   "execution_count": 88,
   "id": "a4a2cfd3-c9b0-480c-90fc-ee5991d9b3c6",
   "metadata": {},
   "outputs": [
    {
     "name": "stdout",
     "output_type": "stream",
     "text": [
      "Bob bob@example.com\n",
      "Alice alice@example.com\n"
     ]
    }
   ],
   "source": [
    "for i,j in emails.items(): \n",
    "    print(i,j)"
   ]
  },
  {
   "cell_type": "code",
   "execution_count": 99,
   "id": "358e4887-832d-4b6d-aefc-673659c271de",
   "metadata": {},
   "outputs": [],
   "source": [
    "l.append(2)"
   ]
  },
  {
   "cell_type": "code",
   "execution_count": 102,
   "id": "491d0718-da44-4d4f-9ae4-066c6cdb44e0",
   "metadata": {},
   "outputs": [
    {
     "name": "stdout",
     "output_type": "stream",
     "text": [
      "a\n",
      "b\n",
      "c\n",
      "['a', 'b', 'c', [...], [...], 2, 'a', 'b', 'c', [...], [...], 2]\n",
      "['a', 'b', 'c', [...], [...], 2, 'a', 'b', 'c', [...], [...], 2]\n",
      "2\n",
      "a\n",
      "b\n",
      "c\n",
      "['a', 'b', 'c', [...], [...], 2, 'a', 'b', 'c', [...], [...], 2]\n",
      "['a', 'b', 'c', [...], [...], 2, 'a', 'b', 'c', [...], [...], 2]\n",
      "2\n"
     ]
    }
   ],
   "source": [
    "for i in l:\n",
    "    print(i)"
   ]
  },
  {
   "cell_type": "code",
   "execution_count": 112,
   "id": "becf301f-b0d1-449c-8a57-3b5a196c6b17",
   "metadata": {},
   "outputs": [],
   "source": [
    "l = [1,2]"
   ]
  },
  {
   "cell_type": "code",
   "execution_count": 113,
   "id": "bd4e2f8f-d41f-4ded-987f-4a587238aec4",
   "metadata": {},
   "outputs": [],
   "source": [
    "l.append(l)"
   ]
  },
  {
   "cell_type": "code",
   "execution_count": 120,
   "id": "0da42d0b-75ad-4c75-bb33-d56219bd627f",
   "metadata": {},
   "outputs": [
    {
     "data": {
      "text/plain": [
       "[1, 2, [...]]"
      ]
     },
     "execution_count": 120,
     "metadata": {},
     "output_type": "execute_result"
    }
   ],
   "source": [
    "l[2]"
   ]
  },
  {
   "cell_type": "code",
   "execution_count": 121,
   "id": "b3812665-895c-4771-a6c0-ea1954f62523",
   "metadata": {},
   "outputs": [
    {
     "data": {
      "text/plain": [
       "True"
      ]
     },
     "execution_count": 121,
     "metadata": {},
     "output_type": "execute_result"
    }
   ],
   "source": [
    "l in l"
   ]
  },
  {
   "cell_type": "code",
   "execution_count": 147,
   "id": "d6216232-56e0-4079-b34f-1f28161096e2",
   "metadata": {},
   "outputs": [],
   "source": [
    "a = [1,2,3,4]"
   ]
  },
  {
   "cell_type": "code",
   "execution_count": 148,
   "id": "14893f12-d6fb-4e4b-a782-b47d145d9f88",
   "metadata": {},
   "outputs": [],
   "source": [
    "a.reverse()"
   ]
  },
  {
   "cell_type": "code",
   "execution_count": 151,
   "id": "d05fdd4c-9012-4844-9fd7-420c887c7be1",
   "metadata": {},
   "outputs": [
    {
     "data": {
      "text/plain": [
       "[4, 3, 2, 1]"
      ]
     },
     "execution_count": 151,
     "metadata": {},
     "output_type": "execute_result"
    }
   ],
   "source": [
    "a"
   ]
  },
  {
   "cell_type": "code",
   "execution_count": 153,
   "id": "96721f76-ef08-4b67-a014-7ea45885136a",
   "metadata": {},
   "outputs": [
    {
     "data": {
      "text/plain": [
       "[1, 2, 3, 4]"
      ]
     },
     "execution_count": 153,
     "metadata": {},
     "output_type": "execute_result"
    }
   ],
   "source": [
    "a[::-1]"
   ]
  },
  {
   "cell_type": "markdown",
   "id": "29270e8a-406c-4d72-985e-8398a847529a",
   "metadata": {},
   "source": [
    "# 3. Time Complexity"
   ]
  },
  {
   "cell_type": "code",
   "execution_count": 156,
   "id": "b705b20f-325d-4247-984a-e7870dcf30a3",
   "metadata": {},
   "outputs": [],
   "source": [
    "def gauss(n): \n",
    "    return n*(n+1)//2"
   ]
  },
  {
   "cell_type": "code",
   "execution_count": 166,
   "id": "d24da2a0-4501-4d0a-95cf-4c0d2dd77e49",
   "metadata": {},
   "outputs": [],
   "source": [
    "def gauss2(n): \n",
    "    res = 0\n",
    "    for i in range(n+1): \n",
    "        res += i\n",
    "    return res"
   ]
  },
  {
   "cell_type": "code",
   "execution_count": 168,
   "id": "8f6047dd-5c8b-4d92-8b89-c545f3df22aa",
   "metadata": {},
   "outputs": [
    {
     "data": {
      "text/plain": [
       "55"
      ]
     },
     "execution_count": 168,
     "metadata": {},
     "output_type": "execute_result"
    }
   ],
   "source": [
    "gauss2(10)"
   ]
  },
  {
   "cell_type": "code",
   "execution_count": 176,
   "id": "9b13fcd9-159f-4e01-9b52-055b9d057838",
   "metadata": {},
   "outputs": [],
   "source": [
    "import random\n",
    "\n",
    "l = []\n",
    "\n",
    "for i in range(100): \n",
    "    l.append(random.randint(1,10))"
   ]
  },
  {
   "cell_type": "code",
   "execution_count": 179,
   "id": "65f4d749-f28c-4d14-be4a-3c07df6e47ff",
   "metadata": {},
   "outputs": [],
   "source": [
    "from collections import Counter"
   ]
  },
  {
   "cell_type": "code",
   "execution_count": 182,
   "id": "656bb963-d8ca-4a0f-8e81-4704fe1f57f9",
   "metadata": {},
   "outputs": [],
   "source": [
    "count_l = Counter(l)"
   ]
  },
  {
   "cell_type": "code",
   "execution_count": 184,
   "id": "17352bf6-0324-4588-b5dc-dd085ea92c62",
   "metadata": {},
   "outputs": [
    {
     "data": {
      "text/plain": [
       "Counter({6: 7, 8: 6, 7: 10, 10: 15, 9: 7, 2: 12, 3: 14, 1: 8, 4: 13, 5: 8})"
      ]
     },
     "execution_count": 184,
     "metadata": {},
     "output_type": "execute_result"
    }
   ],
   "source": [
    "count_l"
   ]
  },
  {
   "cell_type": "markdown",
   "id": "9e6ea08e-bc3f-47d7-90ee-3904855c0ab0",
   "metadata": {},
   "source": [
    "# Intermediate Python Tutorial ([source](https://www.youtube.com/watch?v=0VdzZQdaZ28&list=PLzMcBGfZo4-nhWva-6OVh1yKWHBs4o_tv))"
   ]
  },
  {
   "cell_type": "code",
   "execution_count": 201,
   "id": "7088159c-c67c-4e9d-af95-0a4c9d55222b",
   "metadata": {},
   "outputs": [],
   "source": [
    "def foo(n):\n",
    "    return len(n)\n",
    "\n",
    "x = map(foo, ('apple', 'banana', 'cherry')) "
   ]
  },
  {
   "cell_type": "code",
   "execution_count": 203,
   "id": "f0d2a1a0-ef9a-4318-8fc1-4e7e493bae1d",
   "metadata": {},
   "outputs": [
    {
     "data": {
      "text/plain": [
       "[5, 6, 6]"
      ]
     },
     "execution_count": 203,
     "metadata": {},
     "output_type": "execute_result"
    }
   ],
   "source": [
    "list(x)"
   ]
  },
  {
   "cell_type": "markdown",
   "id": "2a4199e6-a477-4b22-bbb2-4d6991983920",
   "metadata": {},
   "source": [
    "## Counter Class\n",
    "\n",
    "- elements\n",
    "- most_common\n",
    "- subtract\n",
    "- update\n",
    "- clear\n",
    "- \\+ and - (removes elements with a count less than zero)\n",
    "- \\& (takes the min count of each element in the Counter objects)\n",
    "- \\| (takes the max count of each element in the Counter objects)"
   ]
  },
  {
   "cell_type": "code",
   "execution_count": 204,
   "id": "29f84ad0-bfe4-4718-bb0c-cb5459c18f34",
   "metadata": {},
   "outputs": [],
   "source": [
    "from collections import Counter"
   ]
  },
  {
   "cell_type": "code",
   "execution_count": 228,
   "id": "7d4876d2-3437-4b6c-adbb-0c1414e57543",
   "metadata": {},
   "outputs": [],
   "source": [
    "# useful methods\n",
    "l = []\n",
    "\n",
    "for i in range(100): \n",
    "    l.append(random.randint(1,100))"
   ]
  },
  {
   "cell_type": "code",
   "execution_count": 229,
   "id": "51987611-0317-46ef-b7be-d82f551b02e5",
   "metadata": {},
   "outputs": [],
   "source": [
    "c = Counter(l)"
   ]
  },
  {
   "cell_type": "code",
   "execution_count": 235,
   "id": "e3e61aff-eb52-4598-879c-0998db1ea14f",
   "metadata": {},
   "outputs": [
    {
     "data": {
      "text/plain": [
       "[(48, 3), (29, 3), (41, 3)]"
      ]
     },
     "execution_count": 235,
     "metadata": {},
     "output_type": "execute_result"
    }
   ],
   "source": [
    "c.most_common(3)"
   ]
  },
  {
   "cell_type": "code",
   "execution_count": 238,
   "id": "719ff5d1-7ed1-4a3f-a697-617e5840e7db",
   "metadata": {},
   "outputs": [],
   "source": [
    "c = Counter(a=4,b=2,c=0,d=-2)"
   ]
  },
  {
   "cell_type": "code",
   "execution_count": 243,
   "id": "a1c79ff2-caba-4039-852f-88f99a729bae",
   "metadata": {},
   "outputs": [
    {
     "name": "stdout",
     "output_type": "stream",
     "text": [
      "Counter({'a': 4, 'b': 2, 'c': 0, 'd': -2})\n"
     ]
    }
   ],
   "source": [
    "print(c)"
   ]
  },
  {
   "cell_type": "code",
   "execution_count": 244,
   "id": "56dcb8fc-de41-4266-bf25-7882d7c9a5ce",
   "metadata": {},
   "outputs": [
    {
     "data": {
      "text/plain": [
       "['a', 'b', 'c', 'd']"
      ]
     },
     "execution_count": 244,
     "metadata": {},
     "output_type": "execute_result"
    }
   ],
   "source": [
    "list(c)"
   ]
  },
  {
   "cell_type": "code",
   "execution_count": 246,
   "id": "55ab5518-1e03-4bb9-95ce-95b7ce994f3a",
   "metadata": {},
   "outputs": [
    {
     "data": {
      "text/plain": [
       "['a', 'a', 'a', 'a', 'b', 'b']"
      ]
     },
     "execution_count": 246,
     "metadata": {},
     "output_type": "execute_result"
    }
   ],
   "source": [
    "list(c.elements())"
   ]
  },
  {
   "cell_type": "code",
   "execution_count": 247,
   "id": "c894d642-d820-4eb7-be67-230a33695f8c",
   "metadata": {},
   "outputs": [
    {
     "data": {
      "text/plain": [
       "[('a', 4), ('b', 2), ('c', 0), ('d', -2)]"
      ]
     },
     "execution_count": 247,
     "metadata": {},
     "output_type": "execute_result"
    }
   ],
   "source": [
    "c.most_common()"
   ]
  },
  {
   "cell_type": "code",
   "execution_count": 248,
   "id": "08491467-3d4b-41f5-8ad4-685eff6655c4",
   "metadata": {},
   "outputs": [],
   "source": [
    "d = ['a','b','b','c']"
   ]
  },
  {
   "cell_type": "code",
   "execution_count": 249,
   "id": "56835bd7-bf6b-4d1c-bf65-59246f0b019c",
   "metadata": {},
   "outputs": [],
   "source": [
    "c.subtract(d)"
   ]
  },
  {
   "cell_type": "code",
   "execution_count": 251,
   "id": "a71e5115-7da0-46a7-82e7-b8f338a5b1be",
   "metadata": {},
   "outputs": [
    {
     "name": "stdout",
     "output_type": "stream",
     "text": [
      "Counter({'a': 3, 'b': 0, 'c': -1, 'd': -2})\n"
     ]
    }
   ],
   "source": [
    "print(c)"
   ]
  },
  {
   "cell_type": "code",
   "execution_count": 252,
   "id": "1ec6782c-0171-4056-89a5-bb6e706e7a24",
   "metadata": {},
   "outputs": [],
   "source": [
    "c.update(d)"
   ]
  },
  {
   "cell_type": "code",
   "execution_count": 253,
   "id": "7fbad594-c8c6-4f7c-9121-6ee7bb46f4b3",
   "metadata": {},
   "outputs": [
    {
     "name": "stdout",
     "output_type": "stream",
     "text": [
      "Counter({'a': 4, 'b': 2, 'c': 0, 'd': -2})\n"
     ]
    }
   ],
   "source": [
    "print(c)"
   ]
  },
  {
   "cell_type": "markdown",
   "id": "9e2936a7-a819-4975-8b6a-e9eae4c40f5f",
   "metadata": {},
   "source": [
    "## namedtuple Class\n",
    "\n",
    "Remember tuples are immutable!\n",
    "\n",
    "- _asdict\n",
    "- _fields\n",
    "- _replace"
   ]
  },
  {
   "cell_type": "code",
   "execution_count": 254,
   "id": "ad7ba81b-f94d-4a20-b48f-b9ff2d9aaf33",
   "metadata": {},
   "outputs": [],
   "source": [
    "from collections import namedtuple"
   ]
  },
  {
   "cell_type": "code",
   "execution_count": 281,
   "id": "94775588-8d09-442e-b960-8caca1c66525",
   "metadata": {},
   "outputs": [],
   "source": [
    "Point = namedtuple('Point','x y z')"
   ]
  },
  {
   "cell_type": "code",
   "execution_count": 293,
   "id": "dbe41658-0195-4570-893a-4186db67208c",
   "metadata": {},
   "outputs": [],
   "source": [
    "point = Point(3,4,'hola')\n",
    "# or\n",
    "point = Point._make([3,4,'hola'])"
   ]
  },
  {
   "cell_type": "code",
   "execution_count": 294,
   "id": "ff340843-e34c-48c6-b4de-6825d4baf244",
   "metadata": {},
   "outputs": [
    {
     "name": "stdout",
     "output_type": "stream",
     "text": [
      "Point(x=3, y=4, z='hola')\n"
     ]
    }
   ],
   "source": [
    "print(point)"
   ]
  },
  {
   "cell_type": "code",
   "execution_count": 284,
   "id": "ae6caa68-5c98-4133-a6d7-3a50ad543256",
   "metadata": {},
   "outputs": [
    {
     "data": {
      "text/plain": [
       "3"
      ]
     },
     "execution_count": 284,
     "metadata": {},
     "output_type": "execute_result"
    }
   ],
   "source": [
    "point.x"
   ]
  },
  {
   "cell_type": "code",
   "execution_count": 290,
   "id": "ea3dcf79-a9d8-47b9-a7ae-83ebe9ce752a",
   "metadata": {},
   "outputs": [
    {
     "data": {
      "text/plain": [
       "{'x': 3, 'y': 4, 'z': 'hola'}"
      ]
     },
     "execution_count": 290,
     "metadata": {},
     "output_type": "execute_result"
    }
   ],
   "source": [
    "point._asdict()"
   ]
  },
  {
   "cell_type": "markdown",
   "id": "4f45df50-a13d-446b-8a57-b8213ddd5f91",
   "metadata": {},
   "source": [
    "## Deque Class\n",
    "\n",
    "\n",
    "- rotate\n",
    "- maxlen argument"
   ]
  },
  {
   "cell_type": "code",
   "execution_count": 295,
   "id": "4b9c3141-4c3a-4a0f-a943-639a61b79203",
   "metadata": {},
   "outputs": [],
   "source": [
    "from collections import deque"
   ]
  },
  {
   "cell_type": "code",
   "execution_count": 296,
   "id": "7e1e0f47-08a7-4ffe-bd5a-b0bc8228fe8b",
   "metadata": {},
   "outputs": [],
   "source": [
    "d = deque('hello')"
   ]
  },
  {
   "cell_type": "code",
   "execution_count": 297,
   "id": "3248eab2-72df-4336-bd54-af1932b8e940",
   "metadata": {},
   "outputs": [],
   "source": [
    "d.append(4)"
   ]
  },
  {
   "cell_type": "code",
   "execution_count": 298,
   "id": "b37cd207-8cf8-4e02-b3d8-c5a7d31353cd",
   "metadata": {},
   "outputs": [
    {
     "data": {
      "text/plain": [
       "deque(['h', 'e', 'l', 'l', 'o', 4])"
      ]
     },
     "execution_count": 298,
     "metadata": {},
     "output_type": "execute_result"
    }
   ],
   "source": [
    "d"
   ]
  },
  {
   "cell_type": "code",
   "execution_count": 350,
   "id": "ad2a9cc3-3dad-4dc9-9ed0-1fba2e67333e",
   "metadata": {},
   "outputs": [],
   "source": [
    "fruits = ['apple', 'banana', 'cherry']\n",
    "\n",
    "points = [1, 4, 5, 9]\n",
    "\n",
    "l = fruits + points"
   ]
  },
  {
   "cell_type": "code",
   "execution_count": 345,
   "id": "c7aef3a1-ed90-487e-8b4c-ad00859a82aa",
   "metadata": {},
   "outputs": [
    {
     "data": {
      "text/plain": [
       "['apple', 'banana', 'cherry', 1, 4, 5, 9]"
      ]
     },
     "execution_count": 345,
     "metadata": {},
     "output_type": "execute_result"
    }
   ],
   "source": [
    "l"
   ]
  },
  {
   "cell_type": "code",
   "execution_count": 342,
   "id": "958f991a-9a15-4979-96c7-b6f936463600",
   "metadata": {},
   "outputs": [],
   "source": [
    "from collections import deque\n",
    "\n",
    "d = deque(l)\n",
    "d.rotate(-1)"
   ]
  },
  {
   "cell_type": "code",
   "execution_count": 343,
   "id": "17b727b7-78c8-4c6c-a648-75e6f84309be",
   "metadata": {},
   "outputs": [],
   "source": [
    "d = list(d)"
   ]
  },
  {
   "cell_type": "code",
   "execution_count": 344,
   "id": "2c639b18-969a-48be-b188-04fcb0b3ad7b",
   "metadata": {},
   "outputs": [
    {
     "data": {
      "text/plain": [
       "['banana', 'cherry', 1, 4, 5, 9, 'apple']"
      ]
     },
     "execution_count": 344,
     "metadata": {},
     "output_type": "execute_result"
    }
   ],
   "source": [
    "d"
   ]
  },
  {
   "cell_type": "code",
   "execution_count": 331,
   "id": "3c9a34f0-324a-4203-b97b-f2b059ee14f9",
   "metadata": {},
   "outputs": [],
   "source": [
    "l.append(l.pop(1))"
   ]
  },
  {
   "cell_type": "code",
   "execution_count": 335,
   "id": "f3bee946-ae8e-45d4-93f7-ce38972c7108",
   "metadata": {},
   "outputs": [],
   "source": [
    "def rotate(l,n): \n",
    "    return l[-n:]+l[:-n]"
   ]
  },
  {
   "cell_type": "code",
   "execution_count": 346,
   "id": "5f7c3be8-d256-45a0-bb42-1d6498fdb467",
   "metadata": {},
   "outputs": [
    {
     "data": {
      "text/plain": [
       "['banana', 'cherry', 1, 4, 5, 9, 'apple']"
      ]
     },
     "execution_count": 346,
     "metadata": {},
     "output_type": "execute_result"
    }
   ],
   "source": [
    "rotate(l,-1)"
   ]
  },
  {
   "cell_type": "code",
   "execution_count": 351,
   "id": "875dce49-8e72-4b5e-8b81-62889f16bc4f",
   "metadata": {},
   "outputs": [],
   "source": [
    "d = deque(l)"
   ]
  },
  {
   "cell_type": "code",
   "execution_count": 352,
   "id": "84c35bc4-eb9b-4746-ae87-3611dcc79d57",
   "metadata": {},
   "outputs": [],
   "source": [
    "d.insert(0,'test')"
   ]
  },
  {
   "cell_type": "code",
   "execution_count": 353,
   "id": "82af85c2-a814-4583-8f00-0f5e1701a4f9",
   "metadata": {},
   "outputs": [
    {
     "data": {
      "text/plain": [
       "deque(['test', 'apple', 'banana', 'cherry', 1, 4, 5, 9])"
      ]
     },
     "execution_count": 353,
     "metadata": {},
     "output_type": "execute_result"
    }
   ],
   "source": [
    "d"
   ]
  },
  {
   "cell_type": "code",
   "execution_count": null,
   "id": "fb371a75-007a-4114-9d52-f6be7a36a91a",
   "metadata": {},
   "outputs": [],
   "source": [
    "d.remove()"
   ]
  },
  {
   "cell_type": "code",
   "execution_count": 359,
   "id": "87bf8be6-7e46-4dcf-8953-30fe6cc64fa2",
   "metadata": {},
   "outputs": [
    {
     "data": {
      "text/plain": [
       "1"
      ]
     },
     "execution_count": 359,
     "metadata": {},
     "output_type": "execute_result"
    }
   ],
   "source": [
    "[1,2].pop(0)"
   ]
  },
  {
   "cell_type": "markdown",
   "id": "469bb8a4-e738-4f68-9bc8-517bd5db29a3",
   "metadata": {},
   "source": [
    "## Defaultdict"
   ]
  },
  {
   "cell_type": "code",
   "execution_count": 360,
   "id": "ece67971-af9b-43c0-8d25-600cc27be8ea",
   "metadata": {},
   "outputs": [],
   "source": [
    "from collections import defaultdict"
   ]
  },
  {
   "cell_type": "code",
   "execution_count": 368,
   "id": "27d3bfea-106c-4909-b7cb-2c3c2d5bd554",
   "metadata": {},
   "outputs": [],
   "source": [
    "dd = defaultdict(lambda : 0)"
   ]
  },
  {
   "cell_type": "code",
   "execution_count": 369,
   "id": "48daa736-5006-426e-894c-1703e8b60b56",
   "metadata": {},
   "outputs": [],
   "source": [
    "dd['one'] = 1"
   ]
  },
  {
   "cell_type": "code",
   "execution_count": 370,
   "id": "a650a00d-6f82-47fc-aa57-8aef319b1a7d",
   "metadata": {},
   "outputs": [
    {
     "data": {
      "text/plain": [
       "defaultdict(<function __main__.<lambda>()>, {'one': 1})"
      ]
     },
     "execution_count": 370,
     "metadata": {},
     "output_type": "execute_result"
    }
   ],
   "source": [
    "dd"
   ]
  },
  {
   "cell_type": "code",
   "execution_count": 371,
   "id": "3987e655-4b82-40ea-af9b-80dec38e8032",
   "metadata": {},
   "outputs": [
    {
     "data": {
      "text/plain": [
       "0"
      ]
     },
     "execution_count": 371,
     "metadata": {},
     "output_type": "execute_result"
    }
   ],
   "source": [
    "dd['missing']"
   ]
  },
  {
   "cell_type": "code",
   "execution_count": 372,
   "id": "8569a53e-de28-4b80-99be-91c18a201280",
   "metadata": {},
   "outputs": [
    {
     "data": {
      "text/plain": [
       "defaultdict(<function __main__.<lambda>()>, {'one': 1, 'missing': 0})"
      ]
     },
     "execution_count": 372,
     "metadata": {},
     "output_type": "execute_result"
    }
   ],
   "source": [
    "dd"
   ]
  },
  {
   "cell_type": "markdown",
   "id": "28376dce-3375-45c9-8ac6-89fcfb3da698",
   "metadata": {},
   "source": [
    "# BinaryGap"
   ]
  },
  {
   "cell_type": "code",
   "execution_count": 527,
   "id": "a4098935-3680-43cd-ad7d-bfb6a375a032",
   "metadata": {},
   "outputs": [],
   "source": [
    "# represent the integer as a binary number\n",
    "# the default is 0  \n",
    "cases = [9,529,20,15,32]\n",
    "res = [2,4,1,0,0]"
   ]
  },
  {
   "cell_type": "code",
   "execution_count": 550,
   "id": "5b1ec4d1-c833-42e8-8aa1-d343bdcccd2b",
   "metadata": {},
   "outputs": [],
   "source": [
    "def solution(N):\n",
    "    gap = 0\n",
    "    return bin(N).split('1')\n",
    "    \n",
    "    for g in bin(N).split('1')[1:-1]:\n",
    "        if len(g) > gap:\n",
    "            gap = len(g)\n",
    "    return gap"
   ]
  },
  {
   "cell_type": "code",
   "execution_count": 552,
   "id": "dff279d5-8a61-4fe3-aa6a-e49a040e4a5b",
   "metadata": {},
   "outputs": [
    {
     "data": {
      "text/plain": [
       "['0b', '00000']"
      ]
     },
     "execution_count": 552,
     "metadata": {},
     "output_type": "execute_result"
    }
   ],
   "source": [
    "solution(32)"
   ]
  },
  {
   "cell_type": "code",
   "execution_count": 536,
   "id": "14482a58-5e0d-404a-8896-b153b73ab230",
   "metadata": {},
   "outputs": [
    {
     "data": {
      "text/plain": [
       "[['00'], ['0000', '000'], ['0'], ['', '', ''], []]"
      ]
     },
     "execution_count": 536,
     "metadata": {},
     "output_type": "execute_result"
    }
   ],
   "source": [
    "list(map(solution, cases))"
   ]
  },
  {
   "cell_type": "code",
   "execution_count": 553,
   "id": "f4f916ba-5140-49bf-96b1-3d71009a5469",
   "metadata": {},
   "outputs": [],
   "source": [
    "A = [3, 8, 9, 7, 6]\n",
    "K = 3"
   ]
  },
  {
   "cell_type": "code",
   "execution_count": 573,
   "id": "a00fdff6-00e5-4474-ae0c-75d5f44a7067",
   "metadata": {},
   "outputs": [],
   "source": [
    "from collections import deque\n",
    "\n",
    "def solution(A,K):\n",
    "    d = deque(A)\n",
    "    d.rotate(K)\n",
    "    l = list(d)\n",
    "    return l"
   ]
  },
  {
   "cell_type": "code",
   "execution_count": 581,
   "id": "d3130282-39d5-4b19-8147-646e06b4bc07",
   "metadata": {},
   "outputs": [
    {
     "data": {
      "text/plain": [
       "[9, 7, 6, 3, 8]"
      ]
     },
     "execution_count": 581,
     "metadata": {},
     "output_type": "execute_result"
    }
   ],
   "source": [
    "solution(A,K)"
   ]
  },
  {
   "cell_type": "code",
   "execution_count": 582,
   "id": "a66f7907-d12a-466e-adca-9d244f078e3f",
   "metadata": {},
   "outputs": [],
   "source": [
    "def solution(A,K):\n",
    "    res = A[-K::] + A[:-K:]\n",
    "    return res"
   ]
  },
  {
   "cell_type": "code",
   "execution_count": 590,
   "id": "604533a7-6248-4dfe-a0ac-4a02f5890431",
   "metadata": {},
   "outputs": [],
   "source": [
    "A = [9,3,9,3,9,9,7]"
   ]
  },
  {
   "cell_type": "code",
   "execution_count": 597,
   "id": "c17000ea-03b9-4ac2-9e18-f82c4826d599",
   "metadata": {},
   "outputs": [],
   "source": [
    "def solution(A):\n",
    "    seen = set()\n",
    "    for i in A:\n",
    "        if i not in seen:\n",
    "            seen.add(i)\n",
    "        else:\n",
    "            seen.remove(i)\n",
    "    return list(seen)[0]"
   ]
  },
  {
   "cell_type": "code",
   "execution_count": 598,
   "id": "e7643b52-371d-4775-858d-732edb7977d8",
   "metadata": {},
   "outputs": [
    {
     "data": {
      "text/plain": [
       "7"
      ]
     },
     "execution_count": 598,
     "metadata": {},
     "output_type": "execute_result"
    }
   ],
   "source": [
    "solution(A)"
   ]
  },
  {
   "cell_type": "code",
   "execution_count": 599,
   "id": "eabf97ed-2b7f-4650-bd57-fbf1ef971c7f",
   "metadata": {},
   "outputs": [],
   "source": [
    "X, Y, D = 10, 85, 30"
   ]
  },
  {
   "cell_type": "code",
   "execution_count": 623,
   "id": "739bb964-e101-4d33-bcaf-9508151bcfb1",
   "metadata": {},
   "outputs": [],
   "source": [
    "def solution(X, Y, D):\n",
    "    delta = Y - X # 75\n",
    "    return delta // D + (delta%D > 0)"
   ]
  },
  {
   "cell_type": "code",
   "execution_count": 624,
   "id": "a03a2975-044d-46b8-a2b0-4e670fab1369",
   "metadata": {},
   "outputs": [
    {
     "data": {
      "text/plain": [
       "3"
      ]
     },
     "execution_count": 624,
     "metadata": {},
     "output_type": "execute_result"
    }
   ],
   "source": [
    "solution(X, Y, D)"
   ]
  },
  {
   "cell_type": "code",
   "execution_count": 664,
   "id": "2d5a3707-5f41-41c2-847f-eca35c963d4f",
   "metadata": {},
   "outputs": [],
   "source": [
    "A = [2,3,1,5]"
   ]
  },
  {
   "cell_type": "code",
   "execution_count": 665,
   "id": "9059c26d-1409-498b-b5a4-18ffdc477c80",
   "metadata": {},
   "outputs": [],
   "source": [
    "def solution(A): \n",
    "    B = set(range(1,len(A)+2))\n",
    "    return B.difference_update(set(A))"
   ]
  },
  {
   "cell_type": "code",
   "execution_count": 666,
   "id": "749fe151-a7c8-447a-a5ac-f19db9a2481b",
   "metadata": {},
   "outputs": [],
   "source": [
    "solution(A)"
   ]
  },
  {
   "cell_type": "code",
   "execution_count": 747,
   "id": "d9dd069e-9dbe-4419-a0a3-b77fa26326a0",
   "metadata": {},
   "outputs": [],
   "source": [
    "A = [3,1,2,4,3]"
   ]
  },
  {
   "cell_type": "code",
   "execution_count": 748,
   "id": "c1616344-0fec-4d82-8fca-537110096729",
   "metadata": {},
   "outputs": [],
   "source": [
    "def solution(A):\n",
    "    right_sum = sum(A[1:])\n",
    "    left_sum = A[0]\n",
    "    \n",
    "    # initialize diff, p = 1\n",
    "    diff = abs(left_sum-right_sum) \n",
    "    \n",
    "    # try to find a smaller diff, 1 < p < n\n",
    "    for i in A[1:len(A)-1]: \n",
    "        left_sum += i \n",
    "        right_sum -= i \n",
    "        d = abs(left_sum-right_sum) \n",
    "        if d < diff: \n",
    "            diff = d\n",
    "            \n",
    "    return diff"
   ]
  },
  {
   "cell_type": "code",
   "execution_count": 749,
   "id": "6d73d90a-3b6b-4b35-94bc-2464709cff2d",
   "metadata": {},
   "outputs": [
    {
     "data": {
      "text/plain": [
       "1"
      ]
     },
     "execution_count": 749,
     "metadata": {},
     "output_type": "execute_result"
    }
   ],
   "source": [
    "solution(A)"
   ]
  },
  {
   "cell_type": "code",
   "execution_count": 765,
   "id": "86eac49d-4e38-4b84-acac-2887ba2eae3e",
   "metadata": {},
   "outputs": [],
   "source": [
    "X = 5\n",
    "A = [1,3,1,4,2,3,5,4]"
   ]
  },
  {
   "cell_type": "code",
   "execution_count": 776,
   "id": "eb09ae27-0633-428a-8a70-323db88c9f1f",
   "metadata": {},
   "outputs": [],
   "source": [
    "def solution(X, A):\n",
    "    # default value\n",
    "    t = -1 \n",
    "    # check if everything up to X is in the array\n",
    "    A_unique = set(A)\n",
    "    all_nums_up_to_X = set(range(1,X+1))\n",
    "    \n",
    "    # if this set is not empty, \n",
    "    # we know that A does not contain all the numbers up to X\n",
    "    if all_nums_up_to_X.difference(A_unique): \n",
    "        return t\n",
    "    \n",
    "    # \n",
    "    for i, a in enumerate(A[X-1:]):\n",
    "        if a == X: \n",
    "            return i+X-1\n",
    "    return t"
   ]
  },
  {
   "cell_type": "code",
   "execution_count": 781,
   "id": "7a40899b-45d1-40bf-ba41-f103b20d8555",
   "metadata": {},
   "outputs": [
    {
     "data": {
      "text/plain": [
       "6"
      ]
     },
     "execution_count": 781,
     "metadata": {},
     "output_type": "execute_result"
    }
   ],
   "source": [
    "solution(X, A)"
   ]
  },
  {
   "cell_type": "code",
   "execution_count": 780,
   "id": "dff5bcc6-21cc-4e01-a588-c50d27ba74a9",
   "metadata": {},
   "outputs": [],
   "source": [
    "def solution(X, A):\n",
    "    \n",
    "    not_seen = set(range(1,X+1))\n",
    "\n",
    "    for index, pos in enumerate(A):\n",
    "        if pos in not_seen:\n",
    "            not_seen.remove(pos)\n",
    "        if not not_seen:\n",
    "            return index\n",
    "\n",
    "    return -1"
   ]
  },
  {
   "cell_type": "code",
   "execution_count": 782,
   "id": "5754675d-2bab-452e-8071-2a05a334b6c8",
   "metadata": {},
   "outputs": [],
   "source": [
    "A = [4,1,3,2]"
   ]
  },
  {
   "cell_type": "code",
   "execution_count": 809,
   "id": "70fd45ee-b571-47d9-8994-7f3a3761fef0",
   "metadata": {},
   "outputs": [],
   "source": [
    "def solution(A): \n",
    "    not_seen = set(range(1,len(A)+1))    \n",
    "    return int(not not_seen.difference(set(A)))"
   ]
  },
  {
   "cell_type": "code",
   "execution_count": 810,
   "id": "abe4f57d-9e66-44ad-a143-da3c8cfff4eb",
   "metadata": {},
   "outputs": [
    {
     "data": {
      "text/plain": [
       "1"
      ]
     },
     "execution_count": 810,
     "metadata": {},
     "output_type": "execute_result"
    }
   ],
   "source": [
    "solution(A)"
   ]
  },
  {
   "cell_type": "code",
   "execution_count": 813,
   "id": "4ad705f4-6509-4694-8ddf-cece50575277",
   "metadata": {},
   "outputs": [],
   "source": [
    "A = [3,4,4,6,1,4,4]\n",
    "N = 5"
   ]
  },
  {
   "cell_type": "code",
   "execution_count": 883,
   "id": "3a3e04ba-9df4-46ca-9c11-83e5bc9d201a",
   "metadata": {},
   "outputs": [],
   "source": [
    "def solution(N,A):\n",
    "    counters = [0]*N\n",
    "    max_counter = 0\n",
    "    max_to_set = 0\n",
    "\n",
    "    for v in A:\n",
    "        x = v-1\n",
    "        ## lazy max function\n",
    "        if x == N:\n",
    "            max_to_set = max_counter\n",
    "        ## increment function\n",
    "        if 0 <= x < N:\n",
    "            ## update counter value if (a) not maxxed or (b) maxxed previously\n",
    "            counters[x] = max(counters[x]+1, max_to_set+1)\n",
    "            ## update lazy max function\n",
    "            max_counter = max(counters[x],max_counter)\n",
    "\n",
    "    result = list(map(lambda c : max(c,max_to_set), counters))\n",
    "    return result"
   ]
  },
  {
   "cell_type": "code",
   "execution_count": 920,
   "id": "3345a6d3-7313-4c79-8408-426bb6b0256b",
   "metadata": {},
   "outputs": [],
   "source": [
    "A = [1, 3, 6, 4, 1, 2]"
   ]
  },
  {
   "cell_type": "code",
   "execution_count": 921,
   "id": "59dd0497-5f50-4c66-8e48-d4f93f57f912",
   "metadata": {},
   "outputs": [],
   "source": [
    "def solution(A):\n",
    "    A = set(A)\n",
    "    if max(A) < 0:\n",
    "        return 1\n",
    "    B = set(range(1,max(A)+1))\n",
    "    C = B - A\n",
    "    return C\n",
    "    if bool(C):\n",
    "        return min(C)\n",
    "    else:\n",
    "        return max(A)+1"
   ]
  },
  {
   "cell_type": "code",
   "execution_count": 922,
   "id": "5f358462-1ff2-4786-9ab9-46baaa6c4f97",
   "metadata": {},
   "outputs": [
    {
     "data": {
      "text/plain": [
       "{5}"
      ]
     },
     "execution_count": 922,
     "metadata": {},
     "output_type": "execute_result"
    }
   ],
   "source": [
    "solution(A)"
   ]
  },
  {
   "cell_type": "code",
   "execution_count": 884,
   "id": "01f3ce59-103e-4791-a94e-276423f254e6",
   "metadata": {},
   "outputs": [
    {
     "data": {
      "text/plain": [
       "[3, 2, 2, 4, 2]"
      ]
     },
     "execution_count": 884,
     "metadata": {},
     "output_type": "execute_result"
    }
   ],
   "source": [
    "solution(N, A)"
   ]
  },
  {
   "cell_type": "code",
   "execution_count": 853,
   "id": "35e6b70a-9954-4443-820e-e5b15f5c63af",
   "metadata": {},
   "outputs": [],
   "source": [
    "a = [1,2]"
   ]
  },
  {
   "cell_type": "code",
   "execution_count": 855,
   "id": "3adec0a3-e4bd-4400-8e22-385f96395bea",
   "metadata": {},
   "outputs": [],
   "source": [
    "a[0] = 3"
   ]
  },
  {
   "cell_type": "code",
   "execution_count": 924,
   "id": "f5ec9d6b-5c9f-4072-9f5f-1d8d037a64f2",
   "metadata": {},
   "outputs": [],
   "source": [
    "# 0 = east\n",
    "# 1 = west\n",
    "# 0 <= p < q < n \n",
    "# passing <-> p is going east (0) and q is going west (1)\n",
    "# note car of the left is always going east (0)\n",
    "# if passing cars > 10**9 -> return -1"
   ]
  },
  {
   "cell_type": "code",
   "execution_count": 932,
   "id": "481bbdcc-5165-4cdb-ac77-6e61af531879",
   "metadata": {},
   "outputs": [],
   "source": [
    "A =[0,1,0,1,1]"
   ]
  },
  {
   "cell_type": "code",
   "execution_count": 935,
   "id": "7d295b4d-dcd7-4e7d-af8c-fb4780eff7fc",
   "metadata": {},
   "outputs": [],
   "source": [
    "def solution(lanes): \n",
    "    '''\n",
    "    Comment: lanes is the array with the cars going in diff directions\n",
    "    '''\n",
    "    count = 0 \n",
    "    for i, car in enumerate(lanes): \n",
    "        if car == 0: \n",
    "            for other_car in lanes[i+1::]: \n",
    "                if other_car == 1: \n",
    "                    count += 1\n",
    "                    if count > 10*9:\n",
    "                        return -1\n",
    "    \n",
    "    return count"
   ]
  },
  {
   "cell_type": "code",
   "execution_count": null,
   "id": "8f0e2838-144e-4d3a-8a21-b035ed6360fe",
   "metadata": {},
   "outputs": [],
   "source": [
    "def solution(lanes): \n",
    "    "
   ]
  },
  {
   "cell_type": "code",
   "execution_count": 936,
   "id": "1efaa01d-e25e-4476-8f49-77880b4fdf35",
   "metadata": {},
   "outputs": [
    {
     "data": {
      "text/plain": [
       "5"
      ]
     },
     "execution_count": 936,
     "metadata": {},
     "output_type": "execute_result"
    }
   ],
   "source": [
    "solution(A)"
   ]
  },
  {
   "cell_type": "code",
   "execution_count": null,
   "id": "f720decc-60a9-4594-9b9a-a9c9e6a3dbd0",
   "metadata": {},
   "outputs": [],
   "source": []
  },
  {
   "cell_type": "code",
   "execution_count": 983,
   "id": "76ad46e7-b384-46ee-8cb1-fded52beb2c2",
   "metadata": {},
   "outputs": [],
   "source": [
    "A =[0,1,0,1,1]"
   ]
  },
  {
   "cell_type": "code",
   "execution_count": 992,
   "id": "412a91e1-e9d5-47ad-ad6f-84da3bb0d161",
   "metadata": {},
   "outputs": [],
   "source": [
    "def solution(A):\n",
    "    right_sum = sum(A)\n",
    "    \n",
    "    count = 0 \n",
    "    \n",
    "    for i in range(0,len(A)): \n",
    "        if A[i] == 0: \n",
    "            count += right_sum\n",
    "            if count > 10**9: \n",
    "                return -1\n",
    "        else: \n",
    "            right_sum -= 1\n",
    "    \n",
    "    return count"
   ]
  },
  {
   "cell_type": "code",
   "execution_count": 993,
   "id": "ca86cdd1-18b9-4d29-a4ab-e5094e6f9d93",
   "metadata": {},
   "outputs": [
    {
     "data": {
      "text/plain": [
       "5"
      ]
     },
     "execution_count": 993,
     "metadata": {},
     "output_type": "execute_result"
    }
   ],
   "source": [
    "solution(A)"
   ]
  },
  {
   "cell_type": "code",
   "execution_count": null,
   "id": "39bf8d02-dce0-43bc-80c1-c419a81fd8bf",
   "metadata": {},
   "outputs": [],
   "source": []
  },
  {
   "cell_type": "code",
   "execution_count": null,
   "id": "09d48825-b6fd-4b1b-9090-0584f86f4a76",
   "metadata": {},
   "outputs": [],
   "source": [
    "def solution(A):\n",
    "    n = len(A)\n",
    "    p, max_p = prefix_sum(A)\n",
    "\n",
    "    if max_p > 10**9:\n",
    "        return -1\n",
    "\n",
    "    counter = 0\n",
    "    for i in range(0,n):\n",
    "        if A[i]==0:\n",
    "            counter += count_total(p,i,n-1)\n",
    "            if counter > 10**9:\n",
    "                return -1\n",
    "\n",
    "    return counter\n",
    "\n",
    "def prefix_sum(A):\n",
    "    n = len(A)\n",
    "    p = [0]*(n+1)\n",
    "    for i in range(1,n+1):\n",
    "        p[i]=p[i-1]+A[i-1]\n",
    "    return (p, max(p))\n",
    "\n",
    "def count_total(p,i,x):\n",
    "    return int(p[x+1] - p[i])"
   ]
  },
  {
   "cell_type": "code",
   "execution_count": 974,
   "id": "89e37697-037b-4c25-a46d-3852442c277b",
   "metadata": {},
   "outputs": [],
   "source": [
    "A = [1,2,3,4,5]"
   ]
  },
  {
   "cell_type": "code",
   "execution_count": 943,
   "id": "e20e1442-fb0e-44fc-8d54-3ef8346f7e42",
   "metadata": {},
   "outputs": [],
   "source": [
    "def prefix_sum(A):\n",
    "    ps = [0]*(len(A)+1)\n",
    "    for i, v in enumerate(A): \n",
    "        if i == 0:\n",
    "            continue \n",
    "        ps[i] = ps[i-1] + v\n",
    "    return ps "
   ]
  },
  {
   "cell_type": "code",
   "execution_count": 966,
   "id": "a310bec3-3832-4a0f-9656-501ff0c1b5e1",
   "metadata": {},
   "outputs": [
    {
     "name": "stdout",
     "output_type": "stream",
     "text": [
      "[0]\n",
      "[0, 1]\n",
      "[0, 1, 2]\n",
      "[0, 1, 2, 3]\n",
      "[0, 1, 2, 3, 4]\n"
     ]
    }
   ],
   "source": [
    "B = prefix_sum(A)"
   ]
  },
  {
   "cell_type": "code",
   "execution_count": 971,
   "id": "afd66150-0319-4abd-8e10-b84a25cdb071",
   "metadata": {},
   "outputs": [],
   "source": [
    "def ps(A): \n",
    "    ps[0] = A[0]\n",
    "    "
   ]
  },
  {
   "cell_type": "code",
   "execution_count": 975,
   "id": "9b544492-4f59-4c27-9e50-0bb193ddf815",
   "metadata": {},
   "outputs": [],
   "source": [
    "a = [1,2,3,4,5]"
   ]
  },
  {
   "cell_type": "code",
   "execution_count": 982,
   "id": "38779589-172a-4b20-8af5-0142e96bbb4f",
   "metadata": {},
   "outputs": [
    {
     "data": {
      "text/plain": [
       "9"
      ]
     },
     "execution_count": 982,
     "metadata": {},
     "output_type": "execute_result"
    }
   ],
   "source": [
    "sum(a[1:4])"
   ]
  },
  {
   "cell_type": "code",
   "execution_count": null,
   "id": "a84dc3a6-b272-4eda-ab2e-8cb09c123386",
   "metadata": {},
   "outputs": [],
   "source": []
  },
  {
   "cell_type": "code",
   "execution_count": 972,
   "id": "480ff59b-8c9d-4f03-88d8-2ce1a510f3d7",
   "metadata": {},
   "outputs": [
    {
     "data": {
      "text/plain": [
       "[0, 1, 2, 3, 4, 5]"
      ]
     },
     "execution_count": 972,
     "metadata": {},
     "output_type": "execute_result"
    }
   ],
   "source": [
    "a = [1,1,1,1,1]\n",
    "pre_fix(a)"
   ]
  },
  {
   "cell_type": "code",
   "execution_count": null,
   "id": "ffe417e5-fe93-4ccb-bfb0-767606f809db",
   "metadata": {},
   "outputs": [],
   "source": [
    "def slice_sum(s, start, stop):\n",
    "    s[stop]-s[start]"
   ]
  },
  {
   "cell_type": "code",
   "execution_count": null,
   "id": "cab97a31-30fd-4b34-8dd7-5b774952b2b4",
   "metadata": {},
   "outputs": [],
   "source": []
  },
  {
   "cell_type": "code",
   "execution_count": null,
   "id": "0534c3b0-ba87-461c-afdc-54c6dd0b6bf6",
   "metadata": {},
   "outputs": [],
   "source": []
  },
  {
   "cell_type": "code",
   "execution_count": null,
   "id": "427632c5-f11c-4fb5-b173-a9d9b82195a3",
   "metadata": {},
   "outputs": [],
   "source": []
  },
  {
   "cell_type": "code",
   "execution_count": 997,
   "id": "d30828c5-0ff7-4ea6-8abe-cfb3290b29c9",
   "metadata": {},
   "outputs": [],
   "source": [
    "def solution(start,stop,div):\n",
    "    count = 0 \n",
    "    for i in range(start, stop+1): \n",
    "        if i % div == 0: \n",
    "            count += 1 \n",
    "    return count"
   ]
  },
  {
   "cell_type": "code",
   "execution_count": 1004,
   "id": "75dc913c-c26b-49f7-8c16-77d0ed50e40f",
   "metadata": {},
   "outputs": [
    {
     "data": {
      "text/plain": [
       "3"
      ]
     },
     "execution_count": 1004,
     "metadata": {},
     "output_type": "execute_result"
    }
   ],
   "source": [
    "A = 6\n",
    "B = 11 \n",
    "K = 2\n",
    "\n",
    "solution(A,B,K)"
   ]
  },
  {
   "cell_type": "code",
   "execution_count": 1003,
   "id": "8071f5d5-b712-48b5-8cb8-34095b724ba0",
   "metadata": {},
   "outputs": [],
   "source": [
    "def solution(A, B, K):\n",
    "    smallest_i = 0\n",
    "\n",
    "    for i in range(A,B+1):\n",
    "        if i % K == 0:\n",
    "            smallest_i = i\n",
    "            break\n",
    "    c = len(range(smallest_i,B+1))//K + (len(range(smallest_i,B+1))%K>0)\n",
    "    return c"
   ]
  },
  {
   "cell_type": "code",
   "execution_count": null,
   "id": "44c3494a-04da-4aa6-8b8d-f7dcfc1a966d",
   "metadata": {},
   "outputs": [],
   "source": []
  },
  {
   "cell_type": "code",
   "execution_count": 1006,
   "id": "a78cf4dc-8e6b-4977-88b8-fb2479a0f35c",
   "metadata": {},
   "outputs": [],
   "source": [
    "S = 'CAGCCTA'\n",
    "     0123456\n",
    "P = [2,5,0]\n",
    "Q = [4,5,6]"
   ]
  },
  {
   "cell_type": "code",
   "execution_count": 1122,
   "id": "d1f422ac-5024-4652-8546-779c7048beaa",
   "metadata": {},
   "outputs": [],
   "source": [
    "def solution(chain, start, stop): \n",
    "    w_chain = list(map(weight, chain))\n",
    "    s = partial_sum(w_chain)        \n",
    "    ss = tuple(zip(start, stop))\n",
    "    \n",
    "    slices = []\n",
    "    for start, stop in ss: \n",
    "        if start == 0: \n",
    "            slice_val = s[stop]\n",
    "        elif start == stop: \n",
    "            slice_val = 0 \n",
    "        else: \n",
    "            slice_val = s[stop]-s[start-1]\n",
    "        slices.append(slice_val)\n",
    "        \n",
    "    return slices\n",
    "    \n",
    "def weight(char):\n",
    "    w_dict = {'A':1,'C':2,'G':3,'T':4}\n",
    "    return w_dict[char]\n",
    "\n",
    "def partial_sum(a):\n",
    "    s = [a[0]]\n",
    "    for i in range(1,len(a)): \n",
    "        s.append(s[i-1]+a[i])\n",
    "        # print(s)\n",
    "    return s"
   ]
  },
  {
   "cell_type": "code",
   "execution_count": null,
   "id": "7ee58485-bc9d-4eea-8c3c-477d833d8457",
   "metadata": {},
   "outputs": [],
   "source": []
  },
  {
   "cell_type": "code",
   "execution_count": null,
   "id": "148ba8cb-63f3-4753-8d8f-8d0cc25c83a7",
   "metadata": {},
   "outputs": [],
   "source": []
  },
  {
   "cell_type": "code",
   "execution_count": 1123,
   "id": "5ff208f9-bd57-4ec8-a6ea-c5bccde69c49",
   "metadata": {},
   "outputs": [
    {
     "data": {
      "text/plain": [
       "[7, 0, 15]"
      ]
     },
     "execution_count": 1123,
     "metadata": {},
     "output_type": "execute_result"
    }
   ],
   "source": [
    "solution(S,P,Q)"
   ]
  },
  {
   "cell_type": "code",
   "execution_count": 1125,
   "id": "9c32ffe5-6c48-4fa6-a425-aafc40f18d57",
   "metadata": {},
   "outputs": [],
   "source": [
    "def fib(n):\n",
    "    fib = [0,1]\n",
    "    i = 1\n",
    "    # relevant fibs\n",
    "    while fib[i] < n:\n",
    "        fib.append(fib[i] + fib[i-1])\n",
    "        i += 1\n",
    "    return fib\n",
    "\n",
    "def new_paths(A, n, last_pos, fn):\n",
    "    paths = []\n",
    "    # iterate the fib list\n",
    "    for f in fn:\n",
    "        # first iteration last_post = [-1]\n",
    "        new_pos = last_pos + f\n",
    "        # if news position is n or\n",
    "        # new position in A is one\n",
    "        # append the new leaf to the path\n",
    "        if new_pos == n or (new_pos < n and A[new_pos]==1):\n",
    "            paths.append(new_pos)\n",
    "    return paths\n",
    "\n",
    "\n",
    "def solution(A):\n",
    "    # get length of list\n",
    "    n = len(A)\n",
    "    # edge case\n",
    "    if n < 3:\n",
    "        return 1\n",
    "\n",
    "    # make fib list\n",
    "    fn = fib(n)[2:]\n",
    "\n",
    "    # starting position is [-1]\n",
    "    paths = set([-1])\n",
    "\n",
    "    # initialize counter\n",
    "    jump = 1\n",
    "\n",
    "    while True:\n",
    "        # Considering each of the previous jump positions - How many leaves from there are one fib jump away        \n",
    "        paths = set([idx \n",
    "                     for pos in paths \n",
    "                         for idx in new_paths(A, n, pos, fn)])\n",
    "        \n",
    "        \n",
    "\n",
    "        # no new jumps means game over!\n",
    "        if not paths:\n",
    "            break\n",
    "\n",
    "        # Return the number of jumps if [n] is in the path\n",
    "        if n in paths:\n",
    "            return jump\n",
    "\n",
    "        # If paths is not empty record the jump\n",
    "        jump += 1\n",
    "\n",
    "    return -1"
   ]
  },
  {
   "cell_type": "code",
   "execution_count": 1126,
   "id": "f8606c71-199f-4cee-bf6c-8a9be2926bad",
   "metadata": {},
   "outputs": [],
   "source": [
    "A = [3,2,-6,4,0]"
   ]
  },
  {
   "cell_type": "code",
   "execution_count": null,
   "id": "a1dc5ba4-28d1-4184-b908-f388c21cb317",
   "metadata": {},
   "outputs": [],
   "source": [
    "def solution(A):\n",
    "    lower_bound\n",
    "    cumme_val "
   ]
  },
  {
   "cell_type": "code",
   "execution_count": 1132,
   "id": "ed17a859-41d0-4c41-b24c-6bc43a274449",
   "metadata": {},
   "outputs": [],
   "source": [
    "matches = dict(['1a', '[]', '{}'])"
   ]
  },
  {
   "cell_type": "code",
   "execution_count": 1133,
   "id": "524bcab4-a752-460b-9048-18deb2169325",
   "metadata": {},
   "outputs": [
    {
     "data": {
      "text/plain": [
       "{'1': 'a', '[': ']', '{': '}'}"
      ]
     },
     "execution_count": 1133,
     "metadata": {},
     "output_type": "execute_result"
    }
   ],
   "source": [
    "matches"
   ]
  },
  {
   "cell_type": "code",
   "execution_count": null,
   "id": "22c397cc-8270-4c87-9071-9f8083222dbd",
   "metadata": {},
   "outputs": [],
   "source": []
  },
  {
   "cell_type": "code",
   "execution_count": null,
   "id": "208b4547-6e75-46e2-9962-ae90501a22e4",
   "metadata": {},
   "outputs": [],
   "source": []
  }
 ],
 "metadata": {
  "kernelspec": {
   "display_name": "Python 3 (ipykernel)",
   "language": "python",
   "name": "python3"
  },
  "language_info": {
   "codemirror_mode": {
    "name": "ipython",
    "version": 3
   },
   "file_extension": ".py",
   "mimetype": "text/x-python",
   "name": "python",
   "nbconvert_exporter": "python",
   "pygments_lexer": "ipython3",
   "version": "3.8.12"
  }
 },
 "nbformat": 4,
 "nbformat_minor": 5
}
